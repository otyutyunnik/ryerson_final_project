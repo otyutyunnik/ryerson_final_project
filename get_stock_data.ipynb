{
 "cells": [
  {
   "cell_type": "code",
   "execution_count": 1,
   "metadata": {},
   "outputs": [],
   "source": [
    "import requests\n",
    "import pandas as pd\n",
    "from calendar import monthrange\n",
    "import csv\n",
    "import datetime"
   ]
  },
  {
   "cell_type": "code",
   "execution_count": null,
   "metadata": {},
   "outputs": [],
   "source": [
    "in_path = '/Users/alex/Documents/ryerson_final_project/sp30.csv'\n",
    "with open(in_path, mode='r', encoding='utf-8-sig') as infile:\n",
    "    reader = csv.reader(infile)\n",
    "    ticker_list = [row[0] for row in reader if row]"
   ]
  },
  {
   "cell_type": "code",
   "execution_count": null,
   "metadata": {},
   "outputs": [],
   "source": [
    "in_path = '/Users/alex/Documents/ryerson_final_project/sp100.csv'\n",
    "with open(in_path, mode='r', encoding='utf-8-sig') as infile:\n",
    "    reader = csv.reader(infile)\n",
    "    ticker_list2 = [row[0] for row in reader if row]"
   ]
  },
  {
   "cell_type": "code",
   "execution_count": null,
   "metadata": {},
   "outputs": [],
   "source": [
    "for tick in ticker_list2:\n",
    "    get_data2(tick)"
   ]
  },
  {
   "cell_type": "code",
   "execution_count": null,
   "metadata": {},
   "outputs": [],
   "source": [
    "def get_data2(ticker):\n",
    "    all_ticks = []\n",
    "    num = '5'\n",
    "    res = 'minute'\n",
    "    api_key = '' ### personal API key\n",
    "\n",
    "    for year in range(2007,2020):\n",
    "        for month in range(1,13):\n",
    "\n",
    "            #day = monthrange(year,month)[1]\n",
    "\n",
    "            m = ('0' + str(month))[-2:]\n",
    "            m1 = ('0' + str(month+1))[-2:]\n",
    "\n",
    "            from_date = str(year) + '-' + m + '-01'\n",
    "            \n",
    "            if month == 12: to_date = str(year+1) + '-01-01'\n",
    "            else: to_date = str(year) + '-' + m1 + '-01'\n",
    "\n",
    "\n",
    "            link1 = 'https://api.polygon.io/v2/aggs/ticker/{0}/range/{1}/{2}/{3}/{4}?apiKey={5}'.format(ticker, num, res, from_date, to_date, api_key)\n",
    "            print (ticker, from_date, ':', to_date, '-', link1)\n",
    "\n",
    "            try:\n",
    "                r = requests.get(link1).json()\n",
    "            except: \n",
    "                print('#### API Call Error')\n",
    "                continue\n",
    "\n",
    "            try:\n",
    "                print (len(r['results']))\n",
    "                all_ticks.extend(r['results'])\n",
    "            except:\n",
    "                print('### Message Error')\n",
    "                \n",
    "    if len(all_ticks) > 0:\n",
    "        print('writing:', ticker, len(all_ticks))\n",
    "        df = pd.DataFrame(all_ticks)\n",
    "        out_path = '/Users/Alex/Documents/Ryerson_final_project/data/{}.csv'.format(ticker)\n",
    "        df.to_csv(out_path, index=False, header=True)"
   ]
  }
 ],
 "metadata": {
  "kernelspec": {
   "display_name": "Python 3",
   "language": "python",
   "name": "python3"
  },
  "language_info": {
   "codemirror_mode": {
    "name": "ipython",
    "version": 3
   },
   "file_extension": ".py",
   "mimetype": "text/x-python",
   "name": "python",
   "nbconvert_exporter": "python",
   "pygments_lexer": "ipython3",
   "version": "3.7.3"
  }
 },
 "nbformat": 4,
 "nbformat_minor": 2
}
